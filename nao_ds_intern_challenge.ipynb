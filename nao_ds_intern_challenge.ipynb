{
 "cells": [
  {
   "cell_type": "markdown",
   "id": "dc6475bf",
   "metadata": {},
   "source": [
    "# National Audit Office Data Scientist Internship challenge\n",
    "\n",
    "[Github repo](https://github.com/AshishKakran/nao-internship-challenge)\n",
    "\n",
    "[data source](https://www.ons.gov.uk/economy/environmentalaccounts/datasets/ukenvironmentalaccountsatmosphericemissionsgreenhousegasemissionsbyeconomicsectorandgasunitedkingdom)"
   ]
  },
  {
   "cell_type": "markdown",
   "id": "2d47df7d",
   "metadata": {},
   "source": [
    "## Setup"
   ]
  },
  {
   "cell_type": "code",
   "execution_count": 1,
   "id": "909e7be7",
   "metadata": {},
   "outputs": [],
   "source": [
    "import numpy as np\n",
    "import pandas as pd\n",
    "import seaborn as sns\n",
    "import matplotlib.pyplot as plt"
   ]
  },
  {
   "cell_type": "code",
   "execution_count": 2,
   "id": "a7b54d55",
   "metadata": {},
   "outputs": [],
   "source": [
    "%matplotlib inline"
   ]
  },
  {
   "cell_type": "code",
   "execution_count": 3,
   "id": "ab96a239",
   "metadata": {},
   "outputs": [],
   "source": [
    "import sys\n",
    "assert sys.version_info >= (3, 7)"
   ]
  },
  {
   "cell_type": "code",
   "execution_count": 4,
   "id": "49321b96",
   "metadata": {},
   "outputs": [],
   "source": [
    "from packaging import version\n",
    "import sklearn\n",
    "assert version.parse(sklearn.__version__) >= version.parse(\"1.0.1\")\n"
   ]
  },
  {
   "cell_type": "code",
   "execution_count": 5,
   "id": "70d09aa8",
   "metadata": {},
   "outputs": [],
   "source": [
    "plt.rc('font', size=12)\n",
    "plt.rc('axes', labelsize=14, titlesize=14)\n",
    "plt.rc('legend', fontsize=12)\n",
    "plt.rc('xtick', labelsize=10)\n",
    "plt.rc('ytick', labelsize=10)\n",
    "sns.set_theme(style='ticks')"
   ]
  },
  {
   "cell_type": "code",
   "execution_count": 6,
   "id": "36f5dc75",
   "metadata": {},
   "outputs": [],
   "source": [
    "from pathlib import Path\n",
    "\n",
    "# Where to save the figures\n",
    "IMAGES_PATH = Path() / \"images\"\n",
    "IMAGES_PATH.mkdir(parents=True, exist_ok=True)\n",
    "\n",
    "def save_fig(fig_id, tight_layout=True, fig_extension=\"png\", resolution=300):\n",
    "    path = IMAGES_PATH / f\"{fig_id}.{fig_extension}\"\n",
    "    if tight_layout:\n",
    "        plt.tight_layout()\n",
    "    plt.savefig(path, format=fig_extension, dpi=resolution)\n"
   ]
  },
  {
   "cell_type": "markdown",
   "id": "fb69a9a9",
   "metadata": {},
   "source": [
    "## Data Preprocessing"
   ]
  },
  {
   "cell_type": "code",
   "execution_count": 7,
   "id": "9e814774",
   "metadata": {},
   "outputs": [],
   "source": [
    "try:\n",
    "    xfile = pd.ExcelFile('atmosphericemissionsghg.xlsx')\n",
    "except FileNotFoundError:\n",
    "    print(\"Please make sure you have downloaded the file given in link in current directory\")"
   ]
  },
  {
   "cell_type": "code",
   "execution_count": 8,
   "id": "ee5e401e",
   "metadata": {},
   "outputs": [
    {
     "data": {
      "text/plain": [
       "['Contents', 'GHG total', 'CO2', 'CH4', 'N2O', 'HFC', 'PFC', 'NF3', 'SF6']"
      ]
     },
     "execution_count": 8,
     "metadata": {},
     "output_type": "execute_result"
    }
   ],
   "source": [
    "xfile.sheet_names"
   ]
  },
  {
   "cell_type": "code",
   "execution_count": 9,
   "id": "06e56ebe",
   "metadata": {},
   "outputs": [],
   "source": [
    "def preprocess(xlfile, sheet, mode):\n",
    "    \n",
    "    cols = [i for i in range(1990,2021)]\n",
    "    cols.insert(0,'group')\n",
    "    cols.insert(1,'name')\n",
    "    raw_data = pd.read_excel(xlfile, sheet)\n",
    "    \n",
    "    if mode =='r':\n",
    "        extract = raw_data.iloc[3:24].copy()\n",
    "        extract.drop(extract.columns[1],axis = 1, inplace = True)\n",
    "    elif mode =='s':\n",
    "        extract = raw_data.iloc[29:160].copy()\n",
    "        extract.drop(extract.columns[0],axis = 1, inplace = True)\n",
    "    else:\n",
    "        raise ValueError('mode not found')\n",
    "    \n",
    "    extract.columns = pd.Index(cols)\n",
    "    extract.reset_index(drop=True, inplace = True)\n",
    "    \n",
    "    return extract\n"
   ]
  },
  {
   "cell_type": "code",
   "execution_count": 10,
   "id": "b37af0ec",
   "metadata": {},
   "outputs": [],
   "source": [
    "def process_data(xlfile,mode):\n",
    "    frames = {}\n",
    "    for sheet in xlfile.sheet_names[1:]:\n",
    "        frames[sheet] = preprocess(xfile,sheet,mode)\n",
    "        \n",
    "    return frames\n",
    "\n"
   ]
  },
  {
   "cell_type": "code",
   "execution_count": 11,
   "id": "e62345ea",
   "metadata": {},
   "outputs": [],
   "source": [
    "res_frames = {}\n",
    "sic_frames = {}\n",
    "res_frames = process_data(xfile,'r')\n",
    "sic_frames = process_data(xfile,'s')"
   ]
  },
  {
   "cell_type": "code",
   "execution_count": 12,
   "id": "9981151b",
   "metadata": {},
   "outputs": [
    {
     "data": {
      "text/html": [
       "<div>\n",
       "<style scoped>\n",
       "    .dataframe tbody tr th:only-of-type {\n",
       "        vertical-align: middle;\n",
       "    }\n",
       "\n",
       "    .dataframe tbody tr th {\n",
       "        vertical-align: top;\n",
       "    }\n",
       "\n",
       "    .dataframe thead th {\n",
       "        text-align: right;\n",
       "    }\n",
       "</style>\n",
       "<table border=\"1\" class=\"dataframe\">\n",
       "  <thead>\n",
       "    <tr style=\"text-align: right;\">\n",
       "      <th></th>\n",
       "      <th>group</th>\n",
       "      <th>name</th>\n",
       "      <th>1990</th>\n",
       "      <th>1991</th>\n",
       "      <th>1992</th>\n",
       "      <th>1993</th>\n",
       "      <th>1994</th>\n",
       "      <th>1995</th>\n",
       "      <th>1996</th>\n",
       "      <th>1997</th>\n",
       "      <th>...</th>\n",
       "      <th>2011</th>\n",
       "      <th>2012</th>\n",
       "      <th>2013</th>\n",
       "      <th>2014</th>\n",
       "      <th>2015</th>\n",
       "      <th>2016</th>\n",
       "      <th>2017</th>\n",
       "      <th>2018</th>\n",
       "      <th>2019</th>\n",
       "      <th>2020</th>\n",
       "    </tr>\n",
       "  </thead>\n",
       "  <tbody>\n",
       "    <tr>\n",
       "      <th>0</th>\n",
       "      <td>A</td>\n",
       "      <td>Agriculture, forestry and fishing</td>\n",
       "      <td>55231.9</td>\n",
       "      <td>54984.4</td>\n",
       "      <td>54543.9</td>\n",
       "      <td>53737.9</td>\n",
       "      <td>54940.7</td>\n",
       "      <td>54770.8</td>\n",
       "      <td>55696.1</td>\n",
       "      <td>54825.4</td>\n",
       "      <td>...</td>\n",
       "      <td>46788.9</td>\n",
       "      <td>46521.4</td>\n",
       "      <td>46318.8</td>\n",
       "      <td>48209.8</td>\n",
       "      <td>48144.5</td>\n",
       "      <td>48312.1</td>\n",
       "      <td>48947.5</td>\n",
       "      <td>48416.8</td>\n",
       "      <td>48574.6</td>\n",
       "      <td>46843.2</td>\n",
       "    </tr>\n",
       "    <tr>\n",
       "      <th>1</th>\n",
       "      <td>B</td>\n",
       "      <td>Mining and quarrying</td>\n",
       "      <td>48693.8</td>\n",
       "      <td>48707.1</td>\n",
       "      <td>49331.3</td>\n",
       "      <td>49142.4</td>\n",
       "      <td>43788.7</td>\n",
       "      <td>45511.6</td>\n",
       "      <td>45808.9</td>\n",
       "      <td>44970.7</td>\n",
       "      <td>...</td>\n",
       "      <td>23694.3</td>\n",
       "      <td>21941.5</td>\n",
       "      <td>20645.0</td>\n",
       "      <td>20581.5</td>\n",
       "      <td>21937.7</td>\n",
       "      <td>20897.1</td>\n",
       "      <td>20901.9</td>\n",
       "      <td>20698.8</td>\n",
       "      <td>20436.8</td>\n",
       "      <td>18620.3</td>\n",
       "    </tr>\n",
       "    <tr>\n",
       "      <th>2</th>\n",
       "      <td>C</td>\n",
       "      <td>Manufacturing</td>\n",
       "      <td>180563.3</td>\n",
       "      <td>181614.5</td>\n",
       "      <td>174343.2</td>\n",
       "      <td>168704.3</td>\n",
       "      <td>171407.7</td>\n",
       "      <td>169367.2</td>\n",
       "      <td>170747.2</td>\n",
       "      <td>169529.7</td>\n",
       "      <td>...</td>\n",
       "      <td>93409.9</td>\n",
       "      <td>89820.1</td>\n",
       "      <td>92374.4</td>\n",
       "      <td>91889.4</td>\n",
       "      <td>89109.4</td>\n",
       "      <td>84379.1</td>\n",
       "      <td>85540.0</td>\n",
       "      <td>84643.4</td>\n",
       "      <td>82996.7</td>\n",
       "      <td>80438.6</td>\n",
       "    </tr>\n",
       "    <tr>\n",
       "      <th>3</th>\n",
       "      <td>D</td>\n",
       "      <td>Electricity, gas, steam and air conditioning s...</td>\n",
       "      <td>216597.7</td>\n",
       "      <td>213315.8</td>\n",
       "      <td>201452.1</td>\n",
       "      <td>183993.2</td>\n",
       "      <td>179741.9</td>\n",
       "      <td>177199.8</td>\n",
       "      <td>177054.6</td>\n",
       "      <td>163758.4</td>\n",
       "      <td>...</td>\n",
       "      <td>163204.4</td>\n",
       "      <td>177660.1</td>\n",
       "      <td>168696.9</td>\n",
       "      <td>147556.8</td>\n",
       "      <td>131352.2</td>\n",
       "      <td>109655.1</td>\n",
       "      <td>99384.8</td>\n",
       "      <td>95162.1</td>\n",
       "      <td>89421.3</td>\n",
       "      <td>80770.4</td>\n",
       "    </tr>\n",
       "    <tr>\n",
       "      <th>4</th>\n",
       "      <td>E</td>\n",
       "      <td>Water supply; sewerage, waste management and r...</td>\n",
       "      <td>67701.1</td>\n",
       "      <td>69200.7</td>\n",
       "      <td>69402.1</td>\n",
       "      <td>69615.1</td>\n",
       "      <td>69851.2</td>\n",
       "      <td>70768.0</td>\n",
       "      <td>71303.9</td>\n",
       "      <td>70177.9</td>\n",
       "      <td>...</td>\n",
       "      <td>30447.3</td>\n",
       "      <td>29329.2</td>\n",
       "      <td>26867.1</td>\n",
       "      <td>25192.8</td>\n",
       "      <td>25056.5</td>\n",
       "      <td>25074.2</td>\n",
       "      <td>26032.8</td>\n",
       "      <td>26177.1</td>\n",
       "      <td>26009.3</td>\n",
       "      <td>24857.2</td>\n",
       "    </tr>\n",
       "  </tbody>\n",
       "</table>\n",
       "<p>5 rows × 33 columns</p>\n",
       "</div>"
      ],
      "text/plain": [
       "  group                                               name      1990  \\\n",
       "0     A                  Agriculture, forestry and fishing   55231.9   \n",
       "1     B                               Mining and quarrying   48693.8   \n",
       "2     C                                      Manufacturing  180563.3   \n",
       "3     D  Electricity, gas, steam and air conditioning s...  216597.7   \n",
       "4     E  Water supply; sewerage, waste management and r...   67701.1   \n",
       "\n",
       "       1991      1992      1993      1994      1995      1996      1997  ...  \\\n",
       "0   54984.4   54543.9   53737.9   54940.7   54770.8   55696.1   54825.4  ...   \n",
       "1   48707.1   49331.3   49142.4   43788.7   45511.6   45808.9   44970.7  ...   \n",
       "2  181614.5  174343.2  168704.3  171407.7  169367.2  170747.2  169529.7  ...   \n",
       "3  213315.8  201452.1  183993.2  179741.9  177199.8  177054.6  163758.4  ...   \n",
       "4   69200.7   69402.1   69615.1   69851.2   70768.0   71303.9   70177.9  ...   \n",
       "\n",
       "       2011      2012      2013      2014      2015      2016     2017  \\\n",
       "0   46788.9   46521.4   46318.8   48209.8   48144.5   48312.1  48947.5   \n",
       "1   23694.3   21941.5   20645.0   20581.5   21937.7   20897.1  20901.9   \n",
       "2   93409.9   89820.1   92374.4   91889.4   89109.4   84379.1  85540.0   \n",
       "3  163204.4  177660.1  168696.9  147556.8  131352.2  109655.1  99384.8   \n",
       "4   30447.3   29329.2   26867.1   25192.8   25056.5   25074.2  26032.8   \n",
       "\n",
       "      2018     2019     2020  \n",
       "0  48416.8  48574.6  46843.2  \n",
       "1  20698.8  20436.8  18620.3  \n",
       "2  84643.4  82996.7  80438.6  \n",
       "3  95162.1  89421.3  80770.4  \n",
       "4  26177.1  26009.3  24857.2  \n",
       "\n",
       "[5 rows x 33 columns]"
      ]
     },
     "execution_count": 12,
     "metadata": {},
     "output_type": "execute_result"
    }
   ],
   "source": [
    "ghg = res_frames['GHG total']\n",
    "ghg.head()"
   ]
  },
  {
   "cell_type": "code",
   "execution_count": 13,
   "id": "80da444e",
   "metadata": {},
   "outputs": [],
   "source": [
    "temp = ghg[range(1990,2020)].divide(1000) # conversion of emissions from metric ton to megaton\n",
    "ghg = temp.join(ghg['name'])"
   ]
  },
  {
   "cell_type": "code",
   "execution_count": 14,
   "id": "cf8bb340",
   "metadata": {},
   "outputs": [
    {
     "data": {
      "text/html": [
       "<div>\n",
       "<style scoped>\n",
       "    .dataframe tbody tr th:only-of-type {\n",
       "        vertical-align: middle;\n",
       "    }\n",
       "\n",
       "    .dataframe tbody tr th {\n",
       "        vertical-align: top;\n",
       "    }\n",
       "\n",
       "    .dataframe thead th {\n",
       "        text-align: right;\n",
       "    }\n",
       "</style>\n",
       "<table border=\"1\" class=\"dataframe\">\n",
       "  <thead>\n",
       "    <tr style=\"text-align: right;\">\n",
       "      <th></th>\n",
       "      <th>1990</th>\n",
       "      <th>1991</th>\n",
       "      <th>1992</th>\n",
       "      <th>1993</th>\n",
       "      <th>1994</th>\n",
       "      <th>1995</th>\n",
       "      <th>1996</th>\n",
       "      <th>1997</th>\n",
       "      <th>1998</th>\n",
       "      <th>1999</th>\n",
       "      <th>...</th>\n",
       "      <th>2011</th>\n",
       "      <th>2012</th>\n",
       "      <th>2013</th>\n",
       "      <th>2014</th>\n",
       "      <th>2015</th>\n",
       "      <th>2016</th>\n",
       "      <th>2017</th>\n",
       "      <th>2018</th>\n",
       "      <th>2019</th>\n",
       "      <th>name</th>\n",
       "    </tr>\n",
       "  </thead>\n",
       "  <tbody>\n",
       "    <tr>\n",
       "      <th>0</th>\n",
       "      <td>55.2319</td>\n",
       "      <td>54.9844</td>\n",
       "      <td>54.5439</td>\n",
       "      <td>53.7379</td>\n",
       "      <td>54.9407</td>\n",
       "      <td>54.7708</td>\n",
       "      <td>55.6961</td>\n",
       "      <td>54.8254</td>\n",
       "      <td>54.8088</td>\n",
       "      <td>54.7030</td>\n",
       "      <td>...</td>\n",
       "      <td>46.7889</td>\n",
       "      <td>46.5214</td>\n",
       "      <td>46.3188</td>\n",
       "      <td>48.2098</td>\n",
       "      <td>48.1445</td>\n",
       "      <td>48.3121</td>\n",
       "      <td>48.9475</td>\n",
       "      <td>48.4168</td>\n",
       "      <td>48.5746</td>\n",
       "      <td>Agriculture, forestry and fishing</td>\n",
       "    </tr>\n",
       "    <tr>\n",
       "      <th>1</th>\n",
       "      <td>48.6938</td>\n",
       "      <td>48.7071</td>\n",
       "      <td>49.3313</td>\n",
       "      <td>49.1424</td>\n",
       "      <td>43.7887</td>\n",
       "      <td>45.5116</td>\n",
       "      <td>45.8089</td>\n",
       "      <td>44.9707</td>\n",
       "      <td>43.7863</td>\n",
       "      <td>40.1402</td>\n",
       "      <td>...</td>\n",
       "      <td>23.6943</td>\n",
       "      <td>21.9415</td>\n",
       "      <td>20.6450</td>\n",
       "      <td>20.5815</td>\n",
       "      <td>21.9377</td>\n",
       "      <td>20.8971</td>\n",
       "      <td>20.9019</td>\n",
       "      <td>20.6988</td>\n",
       "      <td>20.4368</td>\n",
       "      <td>Mining and quarrying</td>\n",
       "    </tr>\n",
       "    <tr>\n",
       "      <th>2</th>\n",
       "      <td>180.5633</td>\n",
       "      <td>181.6145</td>\n",
       "      <td>174.3432</td>\n",
       "      <td>168.7043</td>\n",
       "      <td>171.4077</td>\n",
       "      <td>169.3672</td>\n",
       "      <td>170.7472</td>\n",
       "      <td>169.5297</td>\n",
       "      <td>160.5361</td>\n",
       "      <td>144.2880</td>\n",
       "      <td>...</td>\n",
       "      <td>93.4099</td>\n",
       "      <td>89.8201</td>\n",
       "      <td>92.3744</td>\n",
       "      <td>91.8894</td>\n",
       "      <td>89.1094</td>\n",
       "      <td>84.3791</td>\n",
       "      <td>85.5400</td>\n",
       "      <td>84.6434</td>\n",
       "      <td>82.9967</td>\n",
       "      <td>Manufacturing</td>\n",
       "    </tr>\n",
       "    <tr>\n",
       "      <th>3</th>\n",
       "      <td>216.5977</td>\n",
       "      <td>213.3158</td>\n",
       "      <td>201.4521</td>\n",
       "      <td>183.9932</td>\n",
       "      <td>179.7419</td>\n",
       "      <td>177.1998</td>\n",
       "      <td>177.0546</td>\n",
       "      <td>163.7584</td>\n",
       "      <td>169.9821</td>\n",
       "      <td>162.4766</td>\n",
       "      <td>...</td>\n",
       "      <td>163.2044</td>\n",
       "      <td>177.6601</td>\n",
       "      <td>168.6969</td>\n",
       "      <td>147.5568</td>\n",
       "      <td>131.3522</td>\n",
       "      <td>109.6551</td>\n",
       "      <td>99.3848</td>\n",
       "      <td>95.1621</td>\n",
       "      <td>89.4213</td>\n",
       "      <td>Electricity, gas, steam and air conditioning s...</td>\n",
       "    </tr>\n",
       "    <tr>\n",
       "      <th>4</th>\n",
       "      <td>67.7011</td>\n",
       "      <td>69.2007</td>\n",
       "      <td>69.4021</td>\n",
       "      <td>69.6151</td>\n",
       "      <td>69.8512</td>\n",
       "      <td>70.7680</td>\n",
       "      <td>71.3039</td>\n",
       "      <td>70.1779</td>\n",
       "      <td>71.2063</td>\n",
       "      <td>66.8366</td>\n",
       "      <td>...</td>\n",
       "      <td>30.4473</td>\n",
       "      <td>29.3292</td>\n",
       "      <td>26.8671</td>\n",
       "      <td>25.1928</td>\n",
       "      <td>25.0565</td>\n",
       "      <td>25.0742</td>\n",
       "      <td>26.0328</td>\n",
       "      <td>26.1771</td>\n",
       "      <td>26.0093</td>\n",
       "      <td>Water supply; sewerage, waste management and r...</td>\n",
       "    </tr>\n",
       "  </tbody>\n",
       "</table>\n",
       "<p>5 rows × 31 columns</p>\n",
       "</div>"
      ],
      "text/plain": [
       "       1990      1991      1992      1993      1994      1995      1996  \\\n",
       "0   55.2319   54.9844   54.5439   53.7379   54.9407   54.7708   55.6961   \n",
       "1   48.6938   48.7071   49.3313   49.1424   43.7887   45.5116   45.8089   \n",
       "2  180.5633  181.6145  174.3432  168.7043  171.4077  169.3672  170.7472   \n",
       "3  216.5977  213.3158  201.4521  183.9932  179.7419  177.1998  177.0546   \n",
       "4   67.7011   69.2007   69.4021   69.6151   69.8512   70.7680   71.3039   \n",
       "\n",
       "       1997      1998      1999  ...      2011      2012      2013      2014  \\\n",
       "0   54.8254   54.8088   54.7030  ...   46.7889   46.5214   46.3188   48.2098   \n",
       "1   44.9707   43.7863   40.1402  ...   23.6943   21.9415   20.6450   20.5815   \n",
       "2  169.5297  160.5361  144.2880  ...   93.4099   89.8201   92.3744   91.8894   \n",
       "3  163.7584  169.9821  162.4766  ...  163.2044  177.6601  168.6969  147.5568   \n",
       "4   70.1779   71.2063   66.8366  ...   30.4473   29.3292   26.8671   25.1928   \n",
       "\n",
       "       2015      2016     2017     2018     2019  \\\n",
       "0   48.1445   48.3121  48.9475  48.4168  48.5746   \n",
       "1   21.9377   20.8971  20.9019  20.6988  20.4368   \n",
       "2   89.1094   84.3791  85.5400  84.6434  82.9967   \n",
       "3  131.3522  109.6551  99.3848  95.1621  89.4213   \n",
       "4   25.0565   25.0742  26.0328  26.1771  26.0093   \n",
       "\n",
       "                                                name  \n",
       "0                  Agriculture, forestry and fishing  \n",
       "1                               Mining and quarrying  \n",
       "2                                      Manufacturing  \n",
       "3  Electricity, gas, steam and air conditioning s...  \n",
       "4  Water supply; sewerage, waste management and r...  \n",
       "\n",
       "[5 rows x 31 columns]"
      ]
     },
     "execution_count": 14,
     "metadata": {},
     "output_type": "execute_result"
    }
   ],
   "source": [
    "ghg.head()"
   ]
  },
  {
   "cell_type": "code",
   "execution_count": 15,
   "id": "bf131c27",
   "metadata": {},
   "outputs": [
    {
     "data": {
      "text/plain": [
       "False"
      ]
     },
     "execution_count": 15,
     "metadata": {},
     "output_type": "execute_result"
    }
   ],
   "source": [
    "True in ghg.isnull().any() # no null values, data is clean"
   ]
  },
  {
   "cell_type": "code",
   "execution_count": 16,
   "id": "fceb20ef",
   "metadata": {},
   "outputs": [],
   "source": [
    "# shorten some of the longer group names\n",
    "pd.options.mode.chained_assignment = None \n",
    "ghg['name'][19] = 'Activities of households as employers'\n",
    "ghg['name'][4] = 'Water supply'\n",
    "ghg['name'][14] = 'public administration'\n",
    "ghg['name'][6] = 'Wholesale and retail trade'"
   ]
  },
  {
   "cell_type": "markdown",
   "id": "006e33ba",
   "metadata": {},
   "source": [
    "## Data Exploration"
   ]
  },
  {
   "cell_type": "markdown",
   "id": "f8254e71",
   "metadata": {},
   "source": [
    " How  annual GHG emissions over the years look like?"
   ]
  },
  {
   "cell_type": "code",
   "execution_count": 17,
   "id": "58558239",
   "metadata": {},
   "outputs": [
    {
     "data": {
      "image/png": "[encoded data removed]",
      "text/plain": [
       "<Figure size 1080x576 with 1 Axes>"
      ]
     },
     "metadata": {},
     "output_type": "display_data"
    }
   ],
   "source": [
    "#sns.set()\n",
    "#ghg.drop('group',axis=1,inplace=True)\n",
    "fig, ax = plt.subplots(figsize=(15, 8))\n",
    "ghg.set_index('name').T.plot(ax=ax, kind='bar', stacked=True,  )\n",
    "sns.move_legend(ax, \"upper left\", bbox_to_anchor=(1, .7), frameon=False, title=None, )\n",
    "#plt.title(' Annual GHG emissions on residential basis in UK (1990 - 2020)')\n",
    "plt.ylabel('Emissions in megaton CO2e', )\n",
    "sns.despine()\n",
    "save_fig(\"Annual Emissions\")"
   ]
  },
  {
   "cell_type": "code",
   "execution_count": 18,
   "id": "86062a51",
   "metadata": {},
   "outputs": [],
   "source": [
    "ghg_series = res_frames['GHG total'][range(1990,2020)].sum()/1000"
   ]
  },
  {
   "cell_type": "code",
   "execution_count": 19,
   "id": "96bf131c",
   "metadata": {},
   "outputs": [
    {
     "data": {
      "text/plain": [
       "1990    833.3547\n",
       "1991    842.9501\n",
       "1992    823.4133\n",
       "1993    805.4645\n",
       "1994      795.85\n",
       "dtype: object"
      ]
     },
     "execution_count": 19,
     "metadata": {},
     "output_type": "execute_result"
    }
   ],
   "source": [
    "ghg_series.head()"
   ]
  },
  {
   "cell_type": "code",
   "execution_count": 20,
   "id": "c0d28adb",
   "metadata": {},
   "outputs": [
    {
     "data": {
      "image/png": "[encoded data removed]",
      "text/plain": [
       "<Figure size 432x288 with 1 Axes>"
      ]
     },
     "metadata": {},
     "output_type": "display_data"
    }
   ],
   "source": [
    "sns.scatterplot(y=ghg_series.values, x = ghg_series.index)\n",
    "plt.ylabel('emissions in megaton CO2e')\n",
    "#plt.title('Annual ghg emissions ')\n",
    "sns.despine()\n",
    "plt.show()"
   ]
  },
  {
   "cell_type": "markdown",
   "id": "e55166af",
   "metadata": {},
   "source": [
    "## Data preparation\n",
    "\n",
    "GHG value of current year will be used to predict value for next year"
   ]
  },
  {
   "cell_type": "code",
   "execution_count": 21,
   "id": "71f8797f",
   "metadata": {},
   "outputs": [],
   "source": [
    "from sklearn.model_selection import train_test_split"
   ]
  },
  {
   "cell_type": "code",
   "execution_count": 22,
   "id": "33ed75f9",
   "metadata": {},
   "outputs": [],
   "source": [
    "data = pd.DataFrame(ghg_series.values, index=ghg_series.index, columns=['cur'], dtype='float64')"
   ]
  },
  {
   "cell_type": "code",
   "execution_count": 23,
   "id": "ae078c0a",
   "metadata": {},
   "outputs": [],
   "source": [
    "data['next'] = data['cur'].shift(-1)"
   ]
  },
  {
   "cell_type": "code",
   "execution_count": 24,
   "id": "18d16149",
   "metadata": {},
   "outputs": [],
   "source": [
    "data['baseline'] = data['cur']"
   ]
  },
  {
   "cell_type": "code",
   "execution_count": 25,
   "id": "c1144a4f",
   "metadata": {},
   "outputs": [
    {
     "data": {
      "text/html": [
       "<div>\n",
       "<style scoped>\n",
       "    .dataframe tbody tr th:only-of-type {\n",
       "        vertical-align: middle;\n",
       "    }\n",
       "\n",
       "    .dataframe tbody tr th {\n",
       "        vertical-align: top;\n",
       "    }\n",
       "\n",
       "    .dataframe thead th {\n",
       "        text-align: right;\n",
       "    }\n",
       "</style>\n",
       "<table border=\"1\" class=\"dataframe\">\n",
       "  <thead>\n",
       "    <tr style=\"text-align: right;\">\n",
       "      <th></th>\n",
       "      <th>cur</th>\n",
       "      <th>next</th>\n",
       "      <th>baseline</th>\n",
       "    </tr>\n",
       "  </thead>\n",
       "  <tbody>\n",
       "    <tr>\n",
       "      <th>2015</th>\n",
       "      <td>595.6894</td>\n",
       "      <td>574.5390</td>\n",
       "      <td>595.6894</td>\n",
       "    </tr>\n",
       "    <tr>\n",
       "      <th>2016</th>\n",
       "      <td>574.5390</td>\n",
       "      <td>559.0622</td>\n",
       "      <td>574.5390</td>\n",
       "    </tr>\n",
       "    <tr>\n",
       "      <th>2017</th>\n",
       "      <td>559.0622</td>\n",
       "      <td>560.2953</td>\n",
       "      <td>559.0622</td>\n",
       "    </tr>\n",
       "    <tr>\n",
       "      <th>2018</th>\n",
       "      <td>560.2953</td>\n",
       "      <td>546.7798</td>\n",
       "      <td>560.2953</td>\n",
       "    </tr>\n",
       "    <tr>\n",
       "      <th>2019</th>\n",
       "      <td>546.7798</td>\n",
       "      <td>NaN</td>\n",
       "      <td>546.7798</td>\n",
       "    </tr>\n",
       "  </tbody>\n",
       "</table>\n",
       "</div>"
      ],
      "text/plain": [
       "           cur      next  baseline\n",
       "2015  595.6894  574.5390  595.6894\n",
       "2016  574.5390  559.0622  574.5390\n",
       "2017  559.0622  560.2953  559.0622\n",
       "2018  560.2953  546.7798  560.2953\n",
       "2019  546.7798       NaN  546.7798"
      ]
     },
     "execution_count": 25,
     "metadata": {},
     "output_type": "execute_result"
    }
   ],
   "source": [
    "data.tail()"
   ]
  },
  {
   "cell_type": "code",
   "execution_count": 26,
   "id": "fbaca23f",
   "metadata": {},
   "outputs": [],
   "source": [
    "data.interpolate(method='linear', axis = 1, inplace=True)"
   ]
  },
  {
   "cell_type": "code",
   "execution_count": 27,
   "id": "8a585a95",
   "metadata": {},
   "outputs": [
    {
     "data": {
      "text/html": [
       "<div>\n",
       "<style scoped>\n",
       "    .dataframe tbody tr th:only-of-type {\n",
       "        vertical-align: middle;\n",
       "    }\n",
       "\n",
       "    .dataframe tbody tr th {\n",
       "        vertical-align: top;\n",
       "    }\n",
       "\n",
       "    .dataframe thead th {\n",
       "        text-align: right;\n",
       "    }\n",
       "</style>\n",
       "<table border=\"1\" class=\"dataframe\">\n",
       "  <thead>\n",
       "    <tr style=\"text-align: right;\">\n",
       "      <th></th>\n",
       "      <th>cur</th>\n",
       "      <th>next</th>\n",
       "      <th>baseline</th>\n",
       "    </tr>\n",
       "  </thead>\n",
       "  <tbody>\n",
       "    <tr>\n",
       "      <th>2015</th>\n",
       "      <td>595.6894</td>\n",
       "      <td>574.5390</td>\n",
       "      <td>595.6894</td>\n",
       "    </tr>\n",
       "    <tr>\n",
       "      <th>2016</th>\n",
       "      <td>574.5390</td>\n",
       "      <td>559.0622</td>\n",
       "      <td>574.5390</td>\n",
       "    </tr>\n",
       "    <tr>\n",
       "      <th>2017</th>\n",
       "      <td>559.0622</td>\n",
       "      <td>560.2953</td>\n",
       "      <td>559.0622</td>\n",
       "    </tr>\n",
       "    <tr>\n",
       "      <th>2018</th>\n",
       "      <td>560.2953</td>\n",
       "      <td>546.7798</td>\n",
       "      <td>560.2953</td>\n",
       "    </tr>\n",
       "    <tr>\n",
       "      <th>2019</th>\n",
       "      <td>546.7798</td>\n",
       "      <td>546.7798</td>\n",
       "      <td>546.7798</td>\n",
       "    </tr>\n",
       "  </tbody>\n",
       "</table>\n",
       "</div>"
      ],
      "text/plain": [
       "           cur      next  baseline\n",
       "2015  595.6894  574.5390  595.6894\n",
       "2016  574.5390  559.0622  574.5390\n",
       "2017  559.0622  560.2953  559.0622\n",
       "2018  560.2953  546.7798  560.2953\n",
       "2019  546.7798  546.7798  546.7798"
      ]
     },
     "execution_count": 27,
     "metadata": {},
     "output_type": "execute_result"
    }
   ],
   "source": [
    "data.tail()"
   ]
  },
  {
   "cell_type": "code",
   "execution_count": 28,
   "id": "752ba0b9",
   "metadata": {},
   "outputs": [],
   "source": [
    "train_set,test_set = train_test_split(data,random_state=42,test_size=0.2, shuffle=False) # turned shuffling off due to time series model"
   ]
  },
  {
   "cell_type": "code",
   "execution_count": 29,
   "id": "7f82960a",
   "metadata": {},
   "outputs": [],
   "source": [
    "train_x = train_set['cur'].values.reshape(-1,1)\n",
    "train_y = train_set['next'].values.reshape(-1,1)\n",
    "test_x = test_set['cur'].values.reshape(-1,1)\n",
    "test_y = test_set['next'].values.reshape(-1,1)"
   ]
  },
  {
   "cell_type": "markdown",
   "id": "29766dd3",
   "metadata": {},
   "source": [
    "## Training and Model selection"
   ]
  },
  {
   "cell_type": "code",
   "execution_count": 30,
   "id": "eba18a0b",
   "metadata": {},
   "outputs": [],
   "source": [
    "from sklearn.linear_model import LinearRegression"
   ]
  },
  {
   "cell_type": "code",
   "execution_count": 31,
   "id": "40fcac17",
   "metadata": {},
   "outputs": [
    {
     "data": {
      "text/plain": [
       "LinearRegression()"
      ]
     },
     "execution_count": 31,
     "metadata": {},
     "output_type": "execute_result"
    }
   ],
   "source": [
    "ln_reg = LinearRegression()\n",
    "ln_reg.fit(train_x, train_y)"
   ]
  },
  {
   "cell_type": "code",
   "execution_count": 32,
   "id": "1a97fb29",
   "metadata": {},
   "outputs": [
    {
     "data": {
      "text/plain": [
       "array([[591.44624994],\n",
       "       [580.64142215],\n",
       "       [558.76344315],\n",
       "       [542.7542374 ],\n",
       "       [544.02975634],\n",
       "       [530.04931979]])"
      ]
     },
     "execution_count": 32,
     "metadata": {},
     "output_type": "execute_result"
    }
   ],
   "source": [
    "ln_reg.predict(test_x)"
   ]
  },
  {
   "cell_type": "code",
   "execution_count": 33,
   "id": "6bc96c3e",
   "metadata": {},
   "outputs": [
    {
     "data": {
      "text/html": [
       "<div>\n",
       "<style scoped>\n",
       "    .dataframe tbody tr th:only-of-type {\n",
       "        vertical-align: middle;\n",
       "    }\n",
       "\n",
       "    .dataframe tbody tr th {\n",
       "        vertical-align: top;\n",
       "    }\n",
       "\n",
       "    .dataframe thead th {\n",
       "        text-align: right;\n",
       "    }\n",
       "</style>\n",
       "<table border=\"1\" class=\"dataframe\">\n",
       "  <thead>\n",
       "    <tr style=\"text-align: right;\">\n",
       "      <th></th>\n",
       "      <th>cur</th>\n",
       "      <th>next</th>\n",
       "      <th>baseline</th>\n",
       "      <th>lr_pred</th>\n",
       "    </tr>\n",
       "  </thead>\n",
       "  <tbody>\n",
       "    <tr>\n",
       "      <th>2014</th>\n",
       "      <td>606.1349</td>\n",
       "      <td>595.6894</td>\n",
       "      <td>606.1349</td>\n",
       "      <td>591.446250</td>\n",
       "    </tr>\n",
       "    <tr>\n",
       "      <th>2015</th>\n",
       "      <td>595.6894</td>\n",
       "      <td>574.5390</td>\n",
       "      <td>595.6894</td>\n",
       "      <td>580.641422</td>\n",
       "    </tr>\n",
       "    <tr>\n",
       "      <th>2016</th>\n",
       "      <td>574.5390</td>\n",
       "      <td>559.0622</td>\n",
       "      <td>574.5390</td>\n",
       "      <td>558.763443</td>\n",
       "    </tr>\n",
       "    <tr>\n",
       "      <th>2017</th>\n",
       "      <td>559.0622</td>\n",
       "      <td>560.2953</td>\n",
       "      <td>559.0622</td>\n",
       "      <td>542.754237</td>\n",
       "    </tr>\n",
       "    <tr>\n",
       "      <th>2018</th>\n",
       "      <td>560.2953</td>\n",
       "      <td>546.7798</td>\n",
       "      <td>560.2953</td>\n",
       "      <td>544.029756</td>\n",
       "    </tr>\n",
       "    <tr>\n",
       "      <th>2019</th>\n",
       "      <td>546.7798</td>\n",
       "      <td>546.7798</td>\n",
       "      <td>546.7798</td>\n",
       "      <td>530.049320</td>\n",
       "    </tr>\n",
       "  </tbody>\n",
       "</table>\n",
       "</div>"
      ],
      "text/plain": [
       "           cur      next  baseline     lr_pred\n",
       "2014  606.1349  595.6894  606.1349  591.446250\n",
       "2015  595.6894  574.5390  595.6894  580.641422\n",
       "2016  574.5390  559.0622  574.5390  558.763443\n",
       "2017  559.0622  560.2953  559.0622  542.754237\n",
       "2018  560.2953  546.7798  560.2953  544.029756\n",
       "2019  546.7798  546.7798  546.7798  530.049320"
      ]
     },
     "execution_count": 33,
     "metadata": {},
     "output_type": "execute_result"
    }
   ],
   "source": [
    "test_set['lr_pred'] = ln_reg.predict(test_x)\n",
    "test_set"
   ]
  },
  {
   "cell_type": "code",
   "execution_count": 34,
   "id": "776f2972",
   "metadata": {},
   "outputs": [],
   "source": [
    "from sklearn.tree import DecisionTreeRegressor"
   ]
  },
  {
   "cell_type": "code",
   "execution_count": 35,
   "id": "86608e1f",
   "metadata": {},
   "outputs": [
    {
     "data": {
      "text/plain": [
       "DecisionTreeRegressor(random_state=42)"
      ]
     },
     "execution_count": 35,
     "metadata": {},
     "output_type": "execute_result"
    }
   ],
   "source": [
    "dt_reg = DecisionTreeRegressor(random_state=42)\n",
    "dt_reg.fit(X=train_x, y=train_y)"
   ]
  },
  {
   "cell_type": "code",
   "execution_count": 36,
   "id": "0c7dc29b",
   "metadata": {},
   "outputs": [
    {
     "data": {
      "text/html": [
       "<div>\n",
       "<style scoped>\n",
       "    .dataframe tbody tr th:only-of-type {\n",
       "        vertical-align: middle;\n",
       "    }\n",
       "\n",
       "    .dataframe tbody tr th {\n",
       "        vertical-align: top;\n",
       "    }\n",
       "\n",
       "    .dataframe thead th {\n",
       "        text-align: right;\n",
       "    }\n",
       "</style>\n",
       "<table border=\"1\" class=\"dataframe\">\n",
       "  <thead>\n",
       "    <tr style=\"text-align: right;\">\n",
       "      <th></th>\n",
       "      <th>cur</th>\n",
       "      <th>next</th>\n",
       "      <th>baseline</th>\n",
       "      <th>lr_pred</th>\n",
       "      <th>dt_pred</th>\n",
       "    </tr>\n",
       "  </thead>\n",
       "  <tbody>\n",
       "    <tr>\n",
       "      <th>2014</th>\n",
       "      <td>606.1349</td>\n",
       "      <td>595.6894</td>\n",
       "      <td>606.1349</td>\n",
       "      <td>591.446250</td>\n",
       "      <td>650.0283</td>\n",
       "    </tr>\n",
       "    <tr>\n",
       "      <th>2015</th>\n",
       "      <td>595.6894</td>\n",
       "      <td>574.5390</td>\n",
       "      <td>595.6894</td>\n",
       "      <td>580.641422</td>\n",
       "      <td>650.0283</td>\n",
       "    </tr>\n",
       "    <tr>\n",
       "      <th>2016</th>\n",
       "      <td>574.5390</td>\n",
       "      <td>559.0622</td>\n",
       "      <td>574.5390</td>\n",
       "      <td>558.763443</td>\n",
       "      <td>650.0283</td>\n",
       "    </tr>\n",
       "    <tr>\n",
       "      <th>2017</th>\n",
       "      <td>559.0622</td>\n",
       "      <td>560.2953</td>\n",
       "      <td>559.0622</td>\n",
       "      <td>542.754237</td>\n",
       "      <td>650.0283</td>\n",
       "    </tr>\n",
       "    <tr>\n",
       "      <th>2018</th>\n",
       "      <td>560.2953</td>\n",
       "      <td>546.7798</td>\n",
       "      <td>560.2953</td>\n",
       "      <td>544.029756</td>\n",
       "      <td>650.0283</td>\n",
       "    </tr>\n",
       "    <tr>\n",
       "      <th>2019</th>\n",
       "      <td>546.7798</td>\n",
       "      <td>546.7798</td>\n",
       "      <td>546.7798</td>\n",
       "      <td>530.049320</td>\n",
       "      <td>650.0283</td>\n",
       "    </tr>\n",
       "  </tbody>\n",
       "</table>\n",
       "</div>"
      ],
      "text/plain": [
       "           cur      next  baseline     lr_pred   dt_pred\n",
       "2014  606.1349  595.6894  606.1349  591.446250  650.0283\n",
       "2015  595.6894  574.5390  595.6894  580.641422  650.0283\n",
       "2016  574.5390  559.0622  574.5390  558.763443  650.0283\n",
       "2017  559.0622  560.2953  559.0622  542.754237  650.0283\n",
       "2018  560.2953  546.7798  560.2953  544.029756  650.0283\n",
       "2019  546.7798  546.7798  546.7798  530.049320  650.0283"
      ]
     },
     "execution_count": 36,
     "metadata": {},
     "output_type": "execute_result"
    }
   ],
   "source": [
    "test_set['dt_pred'] = dt_reg.predict(test_x)\n",
    "test_set"
   ]
  },
  {
   "cell_type": "code",
   "execution_count": 37,
   "id": "6d55f8f8",
   "metadata": {},
   "outputs": [],
   "source": [
    "from sklearn.ensemble import GradientBoostingRegressor"
   ]
  },
  {
   "cell_type": "code",
   "execution_count": 38,
   "id": "12ccc957",
   "metadata": {},
   "outputs": [
    {
     "data": {
      "text/plain": [
       "GradientBoostingRegressor(random_state=42)"
      ]
     },
     "execution_count": 38,
     "metadata": {},
     "output_type": "execute_result"
    }
   ],
   "source": [
    "gbr = GradientBoostingRegressor(random_state=42)\n",
    "gbr.fit(train_x, y=train_y.ravel())"
   ]
  },
  {
   "cell_type": "code",
   "execution_count": 39,
   "id": "1f6d6ba5",
   "metadata": {},
   "outputs": [
    {
     "data": {
      "text/html": [
       "<div>\n",
       "<style scoped>\n",
       "    .dataframe tbody tr th:only-of-type {\n",
       "        vertical-align: middle;\n",
       "    }\n",
       "\n",
       "    .dataframe tbody tr th {\n",
       "        vertical-align: top;\n",
       "    }\n",
       "\n",
       "    .dataframe thead th {\n",
       "        text-align: right;\n",
       "    }\n",
       "</style>\n",
       "<table border=\"1\" class=\"dataframe\">\n",
       "  <thead>\n",
       "    <tr style=\"text-align: right;\">\n",
       "      <th></th>\n",
       "      <th>cur</th>\n",
       "      <th>next</th>\n",
       "      <th>baseline</th>\n",
       "      <th>lr_pred</th>\n",
       "      <th>dt_pred</th>\n",
       "      <th>gbr_pred</th>\n",
       "    </tr>\n",
       "  </thead>\n",
       "  <tbody>\n",
       "    <tr>\n",
       "      <th>2014</th>\n",
       "      <td>606.1349</td>\n",
       "      <td>595.6894</td>\n",
       "      <td>606.1349</td>\n",
       "      <td>591.446250</td>\n",
       "      <td>650.0283</td>\n",
       "      <td>649.499683</td>\n",
       "    </tr>\n",
       "    <tr>\n",
       "      <th>2015</th>\n",
       "      <td>595.6894</td>\n",
       "      <td>574.5390</td>\n",
       "      <td>595.6894</td>\n",
       "      <td>580.641422</td>\n",
       "      <td>650.0283</td>\n",
       "      <td>649.499683</td>\n",
       "    </tr>\n",
       "    <tr>\n",
       "      <th>2016</th>\n",
       "      <td>574.5390</td>\n",
       "      <td>559.0622</td>\n",
       "      <td>574.5390</td>\n",
       "      <td>558.763443</td>\n",
       "      <td>650.0283</td>\n",
       "      <td>649.499683</td>\n",
       "    </tr>\n",
       "    <tr>\n",
       "      <th>2017</th>\n",
       "      <td>559.0622</td>\n",
       "      <td>560.2953</td>\n",
       "      <td>559.0622</td>\n",
       "      <td>542.754237</td>\n",
       "      <td>650.0283</td>\n",
       "      <td>649.499683</td>\n",
       "    </tr>\n",
       "    <tr>\n",
       "      <th>2018</th>\n",
       "      <td>560.2953</td>\n",
       "      <td>546.7798</td>\n",
       "      <td>560.2953</td>\n",
       "      <td>544.029756</td>\n",
       "      <td>650.0283</td>\n",
       "      <td>649.499683</td>\n",
       "    </tr>\n",
       "    <tr>\n",
       "      <th>2019</th>\n",
       "      <td>546.7798</td>\n",
       "      <td>546.7798</td>\n",
       "      <td>546.7798</td>\n",
       "      <td>530.049320</td>\n",
       "      <td>650.0283</td>\n",
       "      <td>649.499683</td>\n",
       "    </tr>\n",
       "  </tbody>\n",
       "</table>\n",
       "</div>"
      ],
      "text/plain": [
       "           cur      next  baseline     lr_pred   dt_pred    gbr_pred\n",
       "2014  606.1349  595.6894  606.1349  591.446250  650.0283  649.499683\n",
       "2015  595.6894  574.5390  595.6894  580.641422  650.0283  649.499683\n",
       "2016  574.5390  559.0622  574.5390  558.763443  650.0283  649.499683\n",
       "2017  559.0622  560.2953  559.0622  542.754237  650.0283  649.499683\n",
       "2018  560.2953  546.7798  560.2953  544.029756  650.0283  649.499683\n",
       "2019  546.7798  546.7798  546.7798  530.049320  650.0283  649.499683"
      ]
     },
     "execution_count": 39,
     "metadata": {},
     "output_type": "execute_result"
    }
   ],
   "source": [
    "test_set['gbr_pred'] = gbr.predict(test_x)\n",
    "test_set"
   ]
  },
  {
   "cell_type": "markdown",
   "id": "71e0233e",
   "metadata": {},
   "source": [
    "## Model Evaluation and Selection using MAPE scores"
   ]
  },
  {
   "cell_type": "code",
   "execution_count": 40,
   "id": "cec5ad81",
   "metadata": {},
   "outputs": [],
   "source": [
    "def mape(true_y, pred_y):\n",
    "    return round(np.mean(np.abs((true_y - pred_y)/true_y)) * 100, 2)"
   ]
  },
  {
   "cell_type": "code",
   "execution_count": 41,
   "id": "a976008a",
   "metadata": {},
   "outputs": [],
   "source": [
    "pred_curve1 = ln_reg.predict(data.cur.values.reshape(-1,1))\n",
    "pred_curve2 = dt_reg.predict(data.cur.values.reshape(-1,1))\n",
    "pred_curve3 = gbr.predict(data.cur.values.reshape(-1,1))"
   ]
  },
  {
   "cell_type": "code",
   "execution_count": 42,
   "id": "d18c6d6a",
   "metadata": {},
   "outputs": [],
   "source": [
    "baseline_mape = mape(test_set['next'], test_set['baseline'])\n",
    "dt_mape = mape(test_set['next'], test_set['dt_pred'])\n",
    "gbr_mape = mape(test_set['next'], test_set['gbr_pred'])\n",
    "lr_mape  = mape(test_set['next'], test_set['lr_pred'])"
   ]
  },
  {
   "cell_type": "code",
   "execution_count": 60,
   "id": "abc24246",
   "metadata": {},
   "outputs": [
    {
     "data": {
      "image/png": "[encoded data removed]",
      "text/plain": [
       "<Figure size 1008x504 with 2 Axes>"
      ]
     },
     "metadata": {},
     "output_type": "display_data"
    }
   ],
   "source": [
    "# Generate bar plot\n",
    "fig, ax = plt.subplots(1,2, figsize=(14, 7))\n",
    "x = ['linear reg', 'Baseline', 'Decision Tree', 'Gradient Boosting', ]\n",
    "y = [lr_mape, baseline_mape, dt_mape, gbr_mape ]\n",
    "ax[1].bar(x, y, width=0.4,color='#DD2255')\n",
    "\n",
    "ax[1].set_ylabel('MAPE (%)')\n",
    "ax[1].set_ylim(0, 100.0)\n",
    "ax[1].set_title('MAPE scores')\n",
    "for index, value in enumerate(y):\n",
    "    plt.text(x=index, y=value + 0.02, s=str(value), ha='center', )\n",
    "\n",
    "sns.scatterplot(ax=ax[0], y=ghg_series.values, x = ghg_series.index)\n",
    "sns.lineplot(ax=ax[0],y=pred_curve1.ravel(), x = ghg_series.index, markers = True, linestyle='--', color='r', label='linear reg' )\n",
    "sns.lineplot(ax=ax[0],y=pred_curve2.ravel(), x = ghg_series.index, markers = True, linestyle='--', color='grey', label='decision tree')\n",
    "sns.lineplot(ax=ax[0],y=pred_curve3.ravel(), x = ghg_series.index, markers = True, linestyle='--', color='green', label='gradient boost')\n",
    "ax[0].set_ylabel('Emissions in  megaton CO2e')\n",
    "#ax[0].set_yticks([x for x in range(0,1000,100)], )\n",
    "ax[0].set_title('prediction curves')\n",
    "ax[0].legend()\n",
    "sns.despine()\n",
    "save_fig(\"model comparison\")"
   ]
  },
  {
   "cell_type": "code",
   "execution_count": 44,
   "id": "ddfa7255",
   "metadata": {},
   "outputs": [],
   "source": [
    "from sklearn.metrics import r2_score"
   ]
  },
  {
   "cell_type": "code",
   "execution_count": 45,
   "id": "a518bfab",
   "metadata": {},
   "outputs": [
    {
     "data": {
      "text/plain": [
       "0.6275111516128189"
      ]
     },
     "execution_count": 45,
     "metadata": {},
     "output_type": "execute_result"
    }
   ],
   "source": [
    "r2_score(test_set['next'], test_set['lr_pred']) # best model "
   ]
  },
  {
   "cell_type": "code",
   "execution_count": 46,
   "id": "1b6a8b4c",
   "metadata": {},
   "outputs": [
    {
     "data": {
      "text/plain": [
       "0.43873118758862073"
      ]
     },
     "execution_count": 46,
     "metadata": {},
     "output_type": "execute_result"
    }
   ],
   "source": [
    "r2_score(test_set['next'], test_set['baseline'])"
   ]
  },
  {
   "cell_type": "code",
   "execution_count": 47,
   "id": "86cd1254",
   "metadata": {},
   "outputs": [
    {
     "data": {
      "text/plain": [
       "-25.511783908265897"
      ]
     },
     "execution_count": 47,
     "metadata": {},
     "output_type": "execute_result"
    }
   ],
   "source": [
    "r2_score(test_set['next'], test_set['dt_pred'])"
   ]
  },
  {
   "cell_type": "code",
   "execution_count": 48,
   "id": "b5855b81",
   "metadata": {},
   "outputs": [
    {
     "data": {
      "text/plain": [
       "-25.199738015657797"
      ]
     },
     "execution_count": 48,
     "metadata": {},
     "output_type": "execute_result"
    }
   ],
   "source": [
    "r2_score(test_set['next'], test_set['gbr_pred'])"
   ]
  },
  {
   "cell_type": "markdown",
   "id": "2f9def05",
   "metadata": {},
   "source": [
    "## Forecasting"
   ]
  },
  {
   "cell_type": "code",
   "execution_count": 51,
   "id": "d5b5b59a",
   "metadata": {},
   "outputs": [],
   "source": [
    "data['lr_pred'] = pred_curve1"
   ]
  },
  {
   "cell_type": "code",
   "execution_count": 52,
   "id": "4297c19c",
   "metadata": {},
   "outputs": [],
   "source": [
    "forecast = data.drop(['next', 'baseline'], axis=1)"
   ]
  },
  {
   "cell_type": "code",
   "execution_count": 53,
   "id": "690c5792",
   "metadata": {},
   "outputs": [
    {
     "data": {
      "text/plain": [
       "546.7797999999999"
      ]
     },
     "execution_count": 53,
     "metadata": {},
     "output_type": "execute_result"
    }
   ],
   "source": [
    "forecast.loc[2019].cur"
   ]
  },
  {
   "cell_type": "code",
   "execution_count": 54,
   "id": "59736b09",
   "metadata": {},
   "outputs": [],
   "source": [
    "idx = pd.Index(range(1990,2027))"
   ]
  },
  {
   "cell_type": "code",
   "execution_count": 55,
   "id": "41be5da4",
   "metadata": {},
   "outputs": [],
   "source": [
    "forecast = forecast.reindex(idx )"
   ]
  },
  {
   "cell_type": "code",
   "execution_count": 56,
   "id": "82ad3529",
   "metadata": {},
   "outputs": [
    {
     "data": {
      "text/html": [
       "<div>\n",
       "<style scoped>\n",
       "    .dataframe tbody tr th:only-of-type {\n",
       "        vertical-align: middle;\n",
       "    }\n",
       "\n",
       "    .dataframe tbody tr th {\n",
       "        vertical-align: top;\n",
       "    }\n",
       "\n",
       "    .dataframe thead th {\n",
       "        text-align: right;\n",
       "    }\n",
       "</style>\n",
       "<table border=\"1\" class=\"dataframe\">\n",
       "  <thead>\n",
       "    <tr style=\"text-align: right;\">\n",
       "      <th></th>\n",
       "      <th>cur</th>\n",
       "      <th>lr_pred</th>\n",
       "    </tr>\n",
       "  </thead>\n",
       "  <tbody>\n",
       "    <tr>\n",
       "      <th>2022</th>\n",
       "      <td>NaN</td>\n",
       "      <td>NaN</td>\n",
       "    </tr>\n",
       "    <tr>\n",
       "      <th>2023</th>\n",
       "      <td>NaN</td>\n",
       "      <td>NaN</td>\n",
       "    </tr>\n",
       "    <tr>\n",
       "      <th>2024</th>\n",
       "      <td>NaN</td>\n",
       "      <td>NaN</td>\n",
       "    </tr>\n",
       "    <tr>\n",
       "      <th>2025</th>\n",
       "      <td>NaN</td>\n",
       "      <td>NaN</td>\n",
       "    </tr>\n",
       "    <tr>\n",
       "      <th>2026</th>\n",
       "      <td>NaN</td>\n",
       "      <td>NaN</td>\n",
       "    </tr>\n",
       "  </tbody>\n",
       "</table>\n",
       "</div>"
      ],
      "text/plain": [
       "      cur  lr_pred\n",
       "2022  NaN      NaN\n",
       "2023  NaN      NaN\n",
       "2024  NaN      NaN\n",
       "2025  NaN      NaN\n",
       "2026  NaN      NaN"
      ]
     },
     "execution_count": 56,
     "metadata": {},
     "output_type": "execute_result"
    }
   ],
   "source": [
    "forecast.tail()"
   ]
  },
  {
   "cell_type": "code",
   "execution_count": 57,
   "id": "c1fb2da1",
   "metadata": {},
   "outputs": [],
   "source": [
    "for i in range(2020, 2027):\n",
    "    forecast.loc[i].cur = forecast.loc[i-1].lr_pred\n",
    "    forecast.loc[i].lr_pred = ln_reg.predict(forecast.loc[i].cur.reshape(1,1))"
   ]
  },
  {
   "cell_type": "code",
   "execution_count": 58,
   "id": "948f4448",
   "metadata": {},
   "outputs": [
    {
     "data": {
      "text/html": [
       "<div>\n",
       "<style scoped>\n",
       "    .dataframe tbody tr th:only-of-type {\n",
       "        vertical-align: middle;\n",
       "    }\n",
       "\n",
       "    .dataframe tbody tr th {\n",
       "        vertical-align: top;\n",
       "    }\n",
       "\n",
       "    .dataframe thead th {\n",
       "        text-align: right;\n",
       "    }\n",
       "</style>\n",
       "<table border=\"1\" class=\"dataframe\">\n",
       "  <thead>\n",
       "    <tr style=\"text-align: right;\">\n",
       "      <th></th>\n",
       "      <th>cur</th>\n",
       "      <th>lr_pred</th>\n",
       "    </tr>\n",
       "  </thead>\n",
       "  <tbody>\n",
       "    <tr>\n",
       "      <th>2021</th>\n",
       "      <td>512.743307</td>\n",
       "      <td>494.841963</td>\n",
       "    </tr>\n",
       "    <tr>\n",
       "      <th>2022</th>\n",
       "      <td>494.841963</td>\n",
       "      <td>476.324808</td>\n",
       "    </tr>\n",
       "    <tr>\n",
       "      <th>2023</th>\n",
       "      <td>476.324808</td>\n",
       "      <td>457.170659</td>\n",
       "    </tr>\n",
       "    <tr>\n",
       "      <th>2024</th>\n",
       "      <td>457.170659</td>\n",
       "      <td>437.357602</td>\n",
       "    </tr>\n",
       "    <tr>\n",
       "      <th>2025</th>\n",
       "      <td>437.357602</td>\n",
       "      <td>416.862971</td>\n",
       "    </tr>\n",
       "    <tr>\n",
       "      <th>2026</th>\n",
       "      <td>416.862971</td>\n",
       "      <td>395.663320</td>\n",
       "    </tr>\n",
       "  </tbody>\n",
       "</table>\n",
       "</div>"
      ],
      "text/plain": [
       "             cur     lr_pred\n",
       "2021  512.743307  494.841963\n",
       "2022  494.841963  476.324808\n",
       "2023  476.324808  457.170659\n",
       "2024  457.170659  437.357602\n",
       "2025  437.357602  416.862971\n",
       "2026  416.862971  395.663320"
      ]
     },
     "execution_count": 58,
     "metadata": {},
     "output_type": "execute_result"
    }
   ],
   "source": [
    "forecast.tail(6)"
   ]
  },
  {
   "cell_type": "code",
   "execution_count": 59,
   "id": "bc4dca17",
   "metadata": {},
   "outputs": [
    {
     "data": {
      "image/png": "[encoded data removed]",
      "text/plain": [
       "<Figure size 360x360 with 1 Axes>"
      ]
     },
     "metadata": {},
     "output_type": "display_data"
    }
   ],
   "source": [
    "fig, ax = plt.subplots(figsize=(5, 5))\n",
    "sns.barplot(ax=ax, x=forecast.index[-6:-1], y= forecast.cur[-6:-1], color='#DD2255')\n",
    "ax.set_ylabel('Emissions in  megaton CO2e')\n",
    "ax.set_yticks([x for x in range(0,1000,100)], )\n",
    "#plt.title('Forecasted Annual ghg emissions (2021-2025)', fontdict=font)\n",
    "ax.bar_label(ax.containers[0])\n",
    "sns.despine(left = True)\n",
    "save_fig('emissions forecast')"
   ]
  }
 ],
 "metadata": {
  "kernelspec": {
   "display_name": "Python 3 (ipykernel)",
   "language": "python",
   "name": "python3"
  },
  "language_info": {
   "codemirror_mode": {
    "name": "ipython",
    "version": 3
   },
   "file_extension": ".py",
   "mimetype": "text/x-python",
   "name": "python",
   "nbconvert_exporter": "python",
   "pygments_lexer": "ipython3",
   "version": "3.9.12"
  }
 },
 "nbformat": 4,
 "nbformat_minor": 5
}
